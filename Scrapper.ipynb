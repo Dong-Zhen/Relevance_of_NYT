{
 "cells": [
  {
   "cell_type": "code",
   "execution_count": 1,
   "metadata": {},
   "outputs": [],
   "source": [
    "from bs4 import BeautifulSoup\n",
    "import requests\n",
    "import os\n",
    "import re"
   ]
  },
  {
   "cell_type": "code",
   "execution_count": 2,
   "metadata": {},
   "outputs": [],
   "source": [
    "import pandas as pd"
   ]
  },
  {
   "cell_type": "code",
   "execution_count": null,
   "metadata": {},
   "outputs": [],
   "source": [
    "table_list = ['DP02', 'DP03', 'DP04', 'DP05']\n",
    "def extract_census_columns(table_list):\n",
    "    for table in table_list\n",
    "    response = requests.get(f'https://data.census.gov/cedsci/table?tid=ACSDP5Y2019.{table}&g=0400000US36')\n",
    "    page = response.text\n",
    "    soup = BeautifulSoup(page, \"lxml\")"
   ]
  },
  {
   "cell_type": "code",
   "execution_count": 3,
   "metadata": {},
   "outputs": [],
   "source": [
    "response = requests.get('https://www.zip-codes.com/state/ny.asp')\n",
    "page = response.text\n",
    "soup = BeautifulSoup(page, \"lxml\")"
   ]
  },
  {
   "cell_type": "code",
   "execution_count": null,
   "metadata": {},
   "outputs": [],
   "source": [
    " <h2 class=\"dtl\">New York Covers 2150 ZIP Codes</h2>"
   ]
  },
  {
   "cell_type": "code",
   "execution_count": 24,
   "metadata": {},
   "outputs": [],
   "source": [
    "table = soup.find('h2').findNext()"
   ]
  },
  {
   "cell_type": "code",
   "execution_count": 54,
   "metadata": {},
   "outputs": [],
   "source": [
    "columns = [column.text for column in table.find('tr').find_all('td')][:3]"
   ]
  },
  {
   "cell_type": "code",
   "execution_count": 49,
   "metadata": {},
   "outputs": [],
   "source": [
    "table_row = table.find_all('tr')[1:]"
   ]
  },
  {
   "cell_type": "code",
   "execution_count": 52,
   "metadata": {},
   "outputs": [
    {
     "data": {
      "text/plain": [
       "[<a href=\"/zip-code/00501/zip-code-00501.asp\" title=\"ZIP Code 00501\">ZIP Code 00501</a>,\n",
       " <a href=\"/city/ny-holtsville.asp\" title=\"Holtsville, NY\">Holtsville</a>,\n",
       " <a href=\"/county/ny-suffolk.asp\">Suffolk</a>]"
      ]
     },
     "execution_count": 52,
     "metadata": {},
     "output_type": "execute_result"
    }
   ],
   "source": [
    "table_row[0].find_all('a')"
   ]
  },
  {
   "cell_type": "code",
   "execution_count": 67,
   "metadata": {},
   "outputs": [],
   "source": [
    "zip_dict = {column: [] for column in columns}"
   ]
  },
  {
   "cell_type": "code",
   "execution_count": 68,
   "metadata": {},
   "outputs": [],
   "source": [
    "for row in table_row:\n",
    "    td = [data.text for data in row.find_all('a')]\n",
    "    for idx, name in enumerate(td):\n",
    "        if idx == 0:\n",
    "            zip_dict[columns[idx]].append(name[-5:])\n",
    "        else: \n",
    "            zip_dict[columns[idx]].append(name)"
   ]
  },
  {
   "cell_type": "code",
   "execution_count": 83,
   "metadata": {},
   "outputs": [
    {
     "data": {
      "text/plain": [
       "['ZIP Code', 'City', 'County']"
      ]
     },
     "execution_count": 83,
     "metadata": {},
     "output_type": "execute_result"
    }
   ],
   "source": [
    "columns"
   ]
  },
  {
   "cell_type": "code",
   "execution_count": 73,
   "metadata": {},
   "outputs": [],
   "source": [
    "df = pd.DataFrame(zip_dict)"
   ]
  },
  {
   "cell_type": "code",
   "execution_count": 70,
   "metadata": {},
   "outputs": [],
   "source": [
    "import requests\n",
    "import censusdata"
   ]
  },
  {
   "cell_type": "code",
   "execution_count": 71,
   "metadata": {},
   "outputs": [],
   "source": [
    "def acquire_nys_zipcode(src, year):\n",
    "    nys_zipcodes = [] \n",
    "    zipcode = censusdata.zipcode = acquire_nys_zipcode('acs5', 2019)geographies(censusdata.censusgeo([('state', '36'), ('zip code tabulation area', '*')]), src, year)\n",
    "    for item in zipcode.items():\n",
    "        nys_zipcodes.append(str(item[0])[-5:])\n",
    "    return nys_zipcodes"
   ]
  },
  {
   "cell_type": "code",
   "execution_count": 72,
   "metadata": {},
   "outputs": [],
   "source": [
    "zipcode = acquire_nys_zipcode('acs5', 2019)"
   ]
  },
  {
   "cell_type": "code",
   "execution_count": 90,
   "metadata": {},
   "outputs": [],
   "source": [
    "zip_df = pd.Series(zipcode).reset_index().rename(columns = {0: 'ZIP Code'}).merge(df, how = 'left', on = 'ZIP Code')"
   ]
  },
  {
   "cell_type": "code",
   "execution_count": 94,
   "metadata": {},
   "outputs": [],
   "source": [
    "zip_df = zip_df.iloc[: , 1:]"
   ]
  },
  {
   "cell_type": "code",
   "execution_count": 96,
   "metadata": {},
   "outputs": [],
   "source": [
    "#zip_df.to_csv(f'Data/Locations.csv', index = False)"
   ]
  },
  {
   "cell_type": "code",
   "execution_count": null,
   "metadata": {},
   "outputs": [],
   "source": []
  }
 ],
 "metadata": {
  "kernelspec": {
   "display_name": "Python 3",
   "language": "python",
   "name": "python3"
  },
  "language_info": {
   "codemirror_mode": {
    "name": "ipython",
    "version": 3
   },
   "file_extension": ".py",
   "mimetype": "text/x-python",
   "name": "python",
   "nbconvert_exporter": "python",
   "pygments_lexer": "ipython3",
   "version": "3.8.5"
  }
 },
 "nbformat": 4,
 "nbformat_minor": 4
}
