{
 "cells": [
  {
   "cell_type": "markdown",
   "metadata": {},
   "source": [
    "How to get New York Time’s attention?\n",
    "\n",
    "Problem: According to the U.S. Census, New York has a total population of  20,201,249. The New York Times has 5.26 million paid subscribers in the first quarter of 2021 according to statista.com. Only a small percent of New York’s total population is subscribed to the New York Times. How can the New York Times increase the number of New York subscribers? \n",
    "\n",
    "Impact Hypothesis: By understanding the demographic, social, housing, and economic characteristics of New Yorkers, the New York Times can implement personalized outreach subscriber campaigns to segmented groups in order to increase New York readership.\n",
    "\n",
    "Dataset: American Community Survey 5-Year Data (2009-2019)\n",
    "\n",
    "Preliminary Analysis: \n",
    "\n",
    "- What are the education groups?\n",
    "- What are their ages?\n",
    "- What are their income levels?\n",
    "- Employed or unemployed?\n",
    "- What industry?\n",
    "- Type of commute to work?\n",
    "- Veteren status?\n",
    "- What are their ethnicities?\n",
    "- Are they foreign born or non-foreign?\n",
    "\n",
    "\n",
    "Solution Path 1:\n",
    "Classification to find which zip codes has more potential subscribers. logistic regression target label what is informing that\n",
    "The New York Times should see an increase in subscribers as they focus on New Yorkers who are likely to subscribe\n",
    "The model is predicting accurately on a test set\n",
    "\n",
    "Solution Path 2: \n",
    "Unsupervised clustering to understand the types of New Yorkers living in different zipcodes and how to better cater to target groups. \n",
    "The New York Times should see an increase in subscribers as they focus on relevant messaging to potential subscribers\n",
    "The clustering is accurately grouping New Yorkers and identifying target groups for New York Times to promote relevant messages\n"
   ]
  },
  {
   "cell_type": "code",
   "execution_count": 10,
   "metadata": {},
   "outputs": [],
   "source": [
    "import requests\n",
    "import censusdata\n",
    "import pandas as pd"
   ]
  },
  {
   "cell_type": "code",
   "execution_count": 11,
   "metadata": {},
   "outputs": [],
   "source": [
    "def acquire_nys_zipcode(src, year):\n",
    "    nys_zipcodes = [] \n",
    "    zipcode = censusdata.geographies(censusdata.censusgeo([('state', '36'), ('zip code tabulation area', '*')]), src, year)\n",
    "    for item in zipcode.items():\n",
    "        nys_zipcodes.append(str(item[0])[-5:])\n",
    "    return nys_zipcodes"
   ]
  },
  {
   "cell_type": "code",
   "execution_count": 12,
   "metadata": {},
   "outputs": [],
   "source": [
    "def dl_nyscensus_data(attribute_list, colname_list, filename):\n",
    "    \n",
    "    zipcode = acquire_nys_zipcode('acs5', 2019)\n",
    "    \n",
    "    df = censusdata.download('acs5', 2019,\n",
    "           censusdata.censusgeo([('state', '36'),\n",
    "                                 ('zip code tabulation area', '*')]), attribute_list)\n",
    "    \n",
    "    df = df.rename(index=dict(zip(df.index, zipcode)))\n",
    "    df = df.rename(columns=dict(zip(df.columns,colname_list)))\n",
    "    \n",
    "    path = r'C:/home/desbrium/Metis/NYT Business/Data/'\n",
    "    \n",
    "    return df.to_csv(f'Data/{filename}.csv', index = True)"
   ]
  },
  {
   "cell_type": "code",
   "execution_count": 36,
   "metadata": {},
   "outputs": [],
   "source": [
    "emp_list = ['B23025_001E', 'B23025_002E', 'B23025_003E',\n",
    "           'B23025_004E', 'B23025_005E',\n",
    "           'B23025_006E', 'B23025_007E']\n",
    "\n",
    "emp_col = ['Population 16 and Over', 'In Labor Force Total', 'Civilian Labor Force', 'Civilian Employed', \n",
    "           'Civilian Unemployed', 'Armed Forces', 'Not in Labor Force']\n",
    "\n",
    "emp_filename = 'Over16EMP'"
   ]
  },
  {
   "cell_type": "code",
   "execution_count": 37,
   "metadata": {},
   "outputs": [],
   "source": [
    "#dl_nyscensus_data(emp_list, emp_col, emp_filename)"
   ]
  },
  {
   "cell_type": "code",
   "execution_count": 39,
   "metadata": {},
   "outputs": [],
   "source": [
    "fm_age_list = [f'B01001_0{num}E' for num in range(26,50)]\n",
    "\n",
    "fm_age_col = ['F Total', 'F Under 5 yrs', 'F 5 to 9 yrs', 'F 10 to 14 yrs', 'F 15 to 17 yrs', 'F 18 to 19 yrs', 'F 20', 'F 21',\n",
    "              'F 22 to 24 yrs', 'F 25 to 29 yrs', 'F 30 to 34 yrs', 'F 35 to 39 yrs', 'F 40 to 44 yrs', 'F 45 to 49 yrs',\n",
    "              'F 50 to 54 yrs', 'F 55 to 59 yrs', 'F 60 to 61 yrs', 'F 62 to 64 yrs', 'F 65 to 66 yrs', 'F 67 to 69 yrs', 'F 70 to 74 yrs', \n",
    "              'F 75 to 79 yrs', 'F 80 to 84 yrs', 'F 85 yrs and over']\n",
    "\n",
    "fm_age_filename = 'FemaleByAge'"
   ]
  },
  {
   "cell_type": "code",
   "execution_count": 40,
   "metadata": {},
   "outputs": [],
   "source": [
    "#dl_nyscensus_data(fm_age_list, fm_age_col, fm_age_filename)"
   ]
  },
  {
   "cell_type": "code",
   "execution_count": 42,
   "metadata": {},
   "outputs": [],
   "source": [
    "m_age_list = [f'B01001_0{num}E' if num > 9 else f'B01001_00{num}E' for num in range(2,26)] \n",
    "\n",
    "m_age_col = [string.replace('F','M') for string in fm_age_col]\n",
    "\n",
    "m_age_filename = 'MaleByAge'"
   ]
  },
  {
   "cell_type": "code",
   "execution_count": 43,
   "metadata": {},
   "outputs": [],
   "source": [
    "#dl_nyscensus_data(m_age_list, m_age_col, m_age_filename)"
   ]
  },
  {
   "cell_type": "code",
   "execution_count": 45,
   "metadata": {},
   "outputs": [],
   "source": [
    "race_list = ['B01003_001E', 'B02001_002E', 'B02001_003E', 'B02001_004E', \n",
    "            'B02001_005E', 'B02001_006E', 'B03001_003E']\n",
    "\n",
    "race_col = ['Total Pop', 'White', 'African American', 'Native American', 'Asian', 'Pacific Islander', 'Hispanic or Latino']\n",
    "\n",
    "race_filename = 'Race'"
   ]
  },
  {
   "cell_type": "code",
   "execution_count": 46,
   "metadata": {},
   "outputs": [],
   "source": [
    "#dl_nyscensus_data(race_list, race_col, race_filename)"
   ]
  },
  {
   "cell_type": "code",
   "execution_count": 60,
   "metadata": {},
   "outputs": [],
   "source": [
    "edu_list = [f'B15003_0{num}E' if num > 9 else f'B15003_00{num}E' for num in range(1,26)] \n",
    "\n",
    "edu_col = ['Population 25 and Over', 'No Schooling', 'Nursery', 'Kindergarten'] + [f'{num}th grade' if num != 12 else f'{num}th grade, no diploma'for num in range(1,13)] + ['Reg HS Diploma', 'GED', '1 yr College', '1 yr or more College, no degree', \"Associate's Degree\", \n",
    "           \"Bachelor's Degree\", \"Master's Degree\", \"Professional school Degree\", \"Doctorate Degree\"]\n",
    "\n",
    "edu_filename = 'Over25Edu'"
   ]
  },
  {
   "cell_type": "code",
   "execution_count": 62,
   "metadata": {},
   "outputs": [],
   "source": [
    "#dl_nyscensus_data(edu_list, edu_col, edu_filename)"
   ]
  },
  {
   "cell_type": "code",
   "execution_count": 71,
   "metadata": {},
   "outputs": [],
   "source": [
    "def age_col(agegrp, attribute, gender):\n",
    "    \n",
    "    col_names = []\n",
    "    \n",
    "    for age in agegrp:\n",
    "            \n",
    "        col_names.extend([gender + ' ' + age + ' ' + att for att in attribute])\n",
    "    \n",
    "    return col_names"
   ]
  },
  {
   "cell_type": "code",
   "execution_count": 72,
   "metadata": {},
   "outputs": [],
   "source": [
    "Age_Groups = ['18 to 24', '25 to 34', '35 to 44', '45 to 64', '65 years and over']"
   ]
  },
  {
   "cell_type": "code",
   "execution_count": 73,
   "metadata": {},
   "outputs": [],
   "source": [
    "Degrees = ['Total', 'Less than 9th grade', '9th to 12th grade, no diploma', 'High school graduate', \n",
    "           'Some college, no degree', \"Associate's degree\", \"Bachelor's degree\", \"Graduate or professional degree\"]"
   ]
  },
  {
   "cell_type": "code",
   "execution_count": 76,
   "metadata": {},
   "outputs": [],
   "source": [
    "m_edu_list = [f'B15001_0{num}E' if num > 9 else f'B15001_00{num}E' for num in range(3,43)] \n",
    "\n",
    "m_edu_col = age_col(Age_Groups, Degrees, 'M')\n",
    "\n",
    "m_edu_filename = 'MaleOver18Edu'"
   ]
  },
  {
   "cell_type": "code",
   "execution_count": 78,
   "metadata": {},
   "outputs": [],
   "source": [
    "#dl_nyscensus_data(m_edu_list, m_edu_col, m_edu_filename)"
   ]
  },
  {
   "cell_type": "code",
   "execution_count": 77,
   "metadata": {},
   "outputs": [],
   "source": [
    "fm_edu_list = [f'B15001_0{num}E' for num in range(44,84)] \n",
    "\n",
    "fm_edu_col = age_col(Age_Groups, Degrees, 'F')\n",
    "\n",
    "fm_edu_filename = 'FMaleOver18Edu'"
   ]
  },
  {
   "cell_type": "code",
   "execution_count": 79,
   "metadata": {},
   "outputs": [],
   "source": [
    "#dl_nyscensus_data(fm_edu_list, fm_edu_col, fm_edu_filename)"
   ]
  },
  {
   "cell_type": "code",
   "execution_count": 84,
   "metadata": {},
   "outputs": [],
   "source": [
    "income_list = [f'B19001_0{num}E' if num > 9 else f'B19001_00{num}E' for num in range(1,18)] \n",
    "\n",
    "income_col = ['Total', 'Less than $10,000', '$10,000 to $14,999', '$15,000 to $19,999', '$20,000 to $24,999',\n",
    "              '$25,000 to $29,999', '$30,000 to $34,999', '$35,000 to $39,999', '$40,000 to $44,999',\n",
    "              '$45,000 to $49,999', '$50,000 to $59,999', '$60,000 to $74,999', '$75,000 to $99,999',\n",
    "              '$100,000 to $124,999', '$125,000 to $149,999', '$150,000 to $199,999', '$200,000 or more']\n",
    "\n",
    "income_filename = 'Income'"
   ]
  },
  {
   "cell_type": "code",
   "execution_count": 85,
   "metadata": {},
   "outputs": [],
   "source": [
    "#dl_nyscensus_data(income_list, income_col, income_filename)"
   ]
  },
  {
   "cell_type": "code",
   "execution_count": 86,
   "metadata": {},
   "outputs": [],
   "source": [
    "Income_Age_Groups = ['Under 25', '25 to 44', '45 to 64', '65 years and over']"
   ]
  },
  {
   "cell_type": "code",
   "execution_count": 96,
   "metadata": {},
   "outputs": [],
   "source": [
    "age_income_list = [f'B19037_0{num}E' if num > 9 else f'B19037_00{num}E' for num in range(2,70)] \n",
    "\n",
    "age_income_col = [name[2:] for name in age_col(Income_Age_Groups, income_col, 'A')]\n",
    "\n",
    "age_income_filename = 'IncomeByAge'"
   ]
  },
  {
   "cell_type": "code",
   "execution_count": 97,
   "metadata": {},
   "outputs": [],
   "source": [
    "#dl_nyscensus_data(age_income_list, age_income_col, age_income_filename)"
   ]
  },
  {
   "cell_type": "code",
   "execution_count": 13,
   "metadata": {},
   "outputs": [],
   "source": [
    "industry_list = [f'B08126_0{num}E' if num > 9 else f'B08126_00{num}E' for num in range(2,16)] \n",
    "\n",
    "industry_list.remove('B08126_013E')\n",
    "\n",
    "industry_col = ['Agriculture_forestry_fishing_hunting_mining', 'Construction', 'Manufacturing', 'Wholesale', \n",
    "                'Retail', 'Transportation_Warehousing_Utilities', 'Information', 'Financial Services',\n",
    "                'Admin_Science_Professional Roles', 'Education_Health_Social Services', 'Entertainment_Arts_Food Services', \n",
    "                'Public Admin', 'Armed Forces']\n",
    "\n",
    "industry_filename = 'Industry'"
   ]
  },
  {
   "cell_type": "code",
   "execution_count": 14,
   "metadata": {},
   "outputs": [],
   "source": [
    "#dl_nyscensus_data(industry_list, industry_col, industry_filename)"
   ]
  },
  {
   "cell_type": "code",
   "execution_count": null,
   "metadata": {},
   "outputs": [],
   "source": []
  }
 ],
 "metadata": {
  "kernelspec": {
   "display_name": "Python 3",
   "language": "python",
   "name": "python3"
  },
  "language_info": {
   "codemirror_mode": {
    "name": "ipython",
    "version": 3
   },
   "file_extension": ".py",
   "mimetype": "text/x-python",
   "name": "python",
   "nbconvert_exporter": "python",
   "pygments_lexer": "ipython3",
   "version": "3.8.5"
  }
 },
 "nbformat": 4,
 "nbformat_minor": 4
}
